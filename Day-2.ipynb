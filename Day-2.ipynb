{
 "cells": [
  {
   "cell_type": "markdown",
   "id": "0130eed8-3444-40b1-b75d-3a6e5f6eb4b9",
   "metadata": {},
   "source": [
    "Write a program to accept an integer from the user and display all the numbers from 1 to that number. Repeat the process until the user enters 0."
   ]
  },
  {
   "cell_type": "code",
   "execution_count": 21,
   "id": "26ff1175-21bc-45c9-8745-e552272282d2",
   "metadata": {},
   "outputs": [
    {
     "name": "stdin",
     "output_type": "stream",
     "text": [
      "Enter Number: -2\n",
      "Enter Number: 2\n"
     ]
    },
    {
     "name": "stdout",
     "output_type": "stream",
     "text": [
      "1\n",
      "2\n"
     ]
    },
    {
     "name": "stdin",
     "output_type": "stream",
     "text": [
      "Enter Number: 0\n"
     ]
    }
   ],
   "source": [
    "while True:\n",
    "    a=int(input(\"Enter Number:\"))\n",
    "    for i in range(0,a):\n",
    "        i=i+1\n",
    "        print(i)\n",
    "    if a==0:\n",
    "        break\n",
    "    else:\n",
    "        pass"
   ]
  },
  {
   "cell_type": "markdown",
   "id": "fb135f0b-a497-44dc-9f22-2d7d9ca0228b",
   "metadata": {
    "tags": []
   },
   "source": [
    "# Write a program to print the following pattern"
   ]
  },
  {
   "cell_type": "code",
   "execution_count": 26,
   "id": "899cba71-b6b1-4d44-842e-11af6cddd317",
   "metadata": {},
   "outputs": [
    {
     "name": "stdin",
     "output_type": "stream",
     "text": [
      "Enter size of pattern you want: 6\n"
     ]
    },
    {
     "name": "stdout",
     "output_type": "stream",
     "text": [
      "*\n",
      "**\n",
      "***\n",
      "****\n",
      "*****\n",
      "******\n"
     ]
    }
   ],
   "source": [
    "a=int(input(\"Enter size of pattern you want:\"))\n",
    "for j in range(1,a+1):\n",
    "    print(j*\"*\",end=\"\\n\")      "
   ]
  },
  {
   "cell_type": "markdown",
   "id": "ed883346-b0d2-496f-8dc1-7ff5bd17c64a",
   "metadata": {
    "jp-MarkdownHeadingCollapsed": true,
    "tags": []
   },
   "source": [
    "# Factorial"
   ]
  },
  {
   "cell_type": "code",
   "execution_count": 7,
   "id": "d93c498d-2b50-45b2-a661-176d63f2a94d",
   "metadata": {},
   "outputs": [
    {
     "name": "stdin",
     "output_type": "stream",
     "text": [
      "enter number to calculate factorial: 5\n"
     ]
    },
    {
     "name": "stdout",
     "output_type": "stream",
     "text": [
      "120\n"
     ]
    }
   ],
   "source": [
    "a=int(input(\"enter number to calculate factorial:\"))\n",
    "fact=1\n",
    "for i in range (1,a+1):\n",
    "    fact=fact*i\n",
    "print(fact)"
   ]
  },
  {
   "cell_type": "markdown",
   "id": "49c22ef8-f09e-44ea-981b-210ae97cec70",
   "metadata": {
    "tags": []
   },
   "source": [
    "# Sum of Number"
   ]
  },
  {
   "cell_type": "code",
   "execution_count": 9,
   "id": "e9b74b52-a18d-48b3-9cf3-8271efe684c7",
   "metadata": {},
   "outputs": [
    {
     "name": "stdin",
     "output_type": "stream",
     "text": [
      "Enter Number to calculate sum: 10\n"
     ]
    },
    {
     "name": "stdout",
     "output_type": "stream",
     "text": [
      "Sum of Numbers till 10 is 55\n"
     ]
    }
   ],
   "source": [
    "a=int(input(\"Enter Number to calculate sum:\"))\n",
    "sum=0\n",
    "for i in range(1,a+1):\n",
    "    sum=sum+i\n",
    "print(\"Sum of Numbers till\",a,\"is\",sum)"
   ]
  },
  {
   "cell_type": "markdown",
   "id": "c715bc9c-c90c-4706-a5f1-7d7a8efe4b4f",
   "metadata": {},
   "source": [
    "# Write a program using a for loop to accept a string from the user and display it vertically but don’t display the vowels in it"
   ]
  },
  {
   "cell_type": "code",
   "execution_count": 22,
   "id": "335a34b4-68ee-491e-91ae-c2c15c86dfcc",
   "metadata": {},
   "outputs": [
    {
     "name": "stdin",
     "output_type": "stream",
     "text": [
      "Enter string you want: 0\n"
     ]
    },
    {
     "name": "stdout",
     "output_type": "stream",
     "text": [
      "0\n"
     ]
    }
   ],
   "source": [
    "a=input(\"Enter string you want:\")\n",
    "for i in range(len(a)):\n",
    "    if type(a)==str:\n",
    "        if a[i] not in [\"a\",\"e\",\"i\",\"o\",\"u\",\"A\",\"E\",\"I\",\"O\",\"U\"]:\n",
    "            print (a[i])\n",
    "        \n",
    "        "
   ]
  },
  {
   "cell_type": "markdown",
   "id": "545b8fd2-0b32-45be-b97f-e7c37461d808",
   "metadata": {},
   "source": [
    "# Write a program to accept an integer from the user and display all the numbers from 1 to that number. Repeat the process until the user enters 0."
   ]
  },
  {
   "cell_type": "code",
   "execution_count": 23,
   "id": "b12c5e93-01ed-4977-b2d3-f01e8b42c6ac",
   "metadata": {},
   "outputs": [
    {
     "name": "stdin",
     "output_type": "stream",
     "text": [
      "Enter Number for addition: 10\n",
      "Enter Number for addition: 12\n",
      "Enter Number for addition: 34\n",
      "Enter Number for addition: 123\n",
      "Enter Number for addition: 0\n"
     ]
    },
    {
     "name": "stdout",
     "output_type": "stream",
     "text": [
      "179\n"
     ]
    }
   ],
   "source": [
    "sum=0\n",
    "while True:\n",
    "    a=int(input(\"Enter Number for addition:\"))\n",
    "    if a==0:\n",
    "        break\n",
    "    else:\n",
    "        sum=sum+a\n",
    "print(sum)"
   ]
  },
  {
   "cell_type": "markdown",
   "id": "b73ae541-1bb3-4302-87be-3348d834cdac",
   "metadata": {},
   "source": [
    "# Write a program to print the following pattern"
   ]
  },
  {
   "cell_type": "code",
   "execution_count": 8,
   "id": "f0400b9b-2e73-4545-a2da-65217676dc19",
   "metadata": {},
   "outputs": [
    {
     "name": "stdin",
     "output_type": "stream",
     "text": [
      "enter number: 5\n"
     ]
    }
   ],
   "source": [
    "a=int(input(\"enter number:\"))\n",
    "\n"
   ]
  },
  {
   "cell_type": "code",
   "execution_count": 6,
   "id": "40c29e50-090d-49e4-81f4-a3395eb095ad",
   "metadata": {},
   "outputs": [
    {
     "name": "stdin",
     "output_type": "stream",
     "text": [
      "Enter No of Rows: 4\n",
      "Enter No of columns: 3\n"
     ]
    },
    {
     "name": "stdout",
     "output_type": "stream",
     "text": [
      "***\n",
      "***\n",
      "***\n",
      "***\n"
     ]
    }
   ],
   "source": [
    "a=int(input(\"Enter No of Rows:\"))\n",
    "b=int(input(\"Enter No of columns:\"))\n",
    "for i in range (a):\n",
    "    for j in range (b):\n",
    "        print(\"*\",end=\"\")\n",
    "    print(\"\\r\")"
   ]
  },
  {
   "cell_type": "code",
   "execution_count": 55,
   "id": "f4531b60-92d1-4b44-8413-7f957f72a7d1",
   "metadata": {},
   "outputs": [
    {
     "name": "stdin",
     "output_type": "stream",
     "text": [
      " 6\n"
     ]
    },
    {
     "name": "stdout",
     "output_type": "stream",
     "text": [
      "******\n",
      "*****\n",
      "****\n",
      "***\n",
      "**\n",
      "*\n"
     ]
    }
   ],
   "source": [
    "a=int(input())\n",
    "for i in range(a,0,-1):\n",
    "    print(i*\"*\")"
   ]
  },
  {
   "cell_type": "code",
   "execution_count": 24,
   "id": "63fab740-8913-4438-b029-da63e93a631d",
   "metadata": {},
   "outputs": [
    {
     "name": "stdin",
     "output_type": "stream",
     "text": [
      " 6\n",
      " 6\n"
     ]
    },
    {
     "name": "stdout",
     "output_type": "stream",
     "text": [
      "***************\n",
      "***************\n",
      "***************\n",
      "***************\n",
      "***************\n",
      "***************\n"
     ]
    }
   ],
   "source": [
    "a=int(input())\n",
    "b=int(input())\n",
    "for i in range(a):\n",
    "    for j in range(b):\n",
    "        print((j-1)*\"*\",end=\"\")\n",
    "    print(\"\\r\")"
   ]
  },
  {
   "cell_type": "code",
   "execution_count": 11,
   "id": "764666f6-e383-43cc-a80a-0ce3a9f86770",
   "metadata": {},
   "outputs": [
    {
     "name": "stdin",
     "output_type": "stream",
     "text": [
      "Enter Year: 2016\n"
     ]
    },
    {
     "name": "stdout",
     "output_type": "stream",
     "text": [
      "2016 is a LEAP YEAR\n"
     ]
    }
   ],
   "source": [
    "a=int(input(\"Enter Year:\"))\n",
    "if a%4==0 and a%100!=0:\n",
    "    print(a, \"is a LEAP YEAR\")\n",
    "elif a%400==0:\n",
    "    print(a,\"is a LEAP YEAR\")\n",
    "else:\n",
    "    print(a, \"is NOT A LEAP YEAR\")\n",
    "    "
   ]
  },
  {
   "cell_type": "code",
   "execution_count": null,
   "id": "3da9e46c-1b8e-43db-b89d-48c7bc56bc3b",
   "metadata": {},
   "outputs": [],
   "source": []
  }
 ],
 "metadata": {
  "kernelspec": {
   "display_name": "Python 3 (ipykernel)",
   "language": "python",
   "name": "python3"
  },
  "language_info": {
   "codemirror_mode": {
    "name": "ipython",
    "version": 3
   },
   "file_extension": ".py",
   "mimetype": "text/x-python",
   "name": "python",
   "nbconvert_exporter": "python",
   "pygments_lexer": "ipython3",
   "version": "3.10.6"
  }
 },
 "nbformat": 4,
 "nbformat_minor": 5
}
